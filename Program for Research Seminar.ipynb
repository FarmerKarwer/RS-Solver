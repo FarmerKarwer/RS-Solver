{
 "cells": [
  {
   "cell_type": "markdown",
   "metadata": {},
   "source": [
    "## Solving h-index problems"
   ]
  },
  {
   "cell_type": "code",
   "execution_count": 4,
   "metadata": {},
   "outputs": [],
   "source": [
    "import numpy as np\n",
    "import pandas as pd\n",
    "import xlrd"
   ]
  },
  {
   "cell_type": "code",
   "execution_count": 5,
   "metadata": {},
   "outputs": [],
   "source": [
    "# Loading Data for calculating hirsh-index\n",
    "\n",
    "def hirsh(path):\n",
    "    print(\"\\n=== Индекс Хирша ===\\n\")\n",
    "    print(\"Дано: \\n\")\n",
    "    data = pd.read_excel(path,sheet_name=0, dtype=int)\n",
    "    print(data)\n",
    "    print(\"-----\\nРешение:\")\n",
    "    h_index(data)\n",
    "    \n",
    "# Sorting table for h-index\n",
    "\n",
    "def sorted_h_table(data):\n",
    "    data[\"Цитирование\"] = data.sort_values(\"Цитирование\", ascending=False)[\"Цитирование\"].values\n",
    "    print(f'\\nSorted Table:\\n{data}')\n",
    "    return data\n",
    "\n",
    "# Calculating h-index from sorted table\n",
    "\n",
    "def h_index(data):\n",
    "    sorted_h_table(data)\n",
    "    for index, row in data.iterrows():\n",
    "        if row[1] < row[0]:\n",
    "            print(f'\\nh-index = {data.iloc[index-1,1]}')\n",
    "            break"
   ]
  },
  {
   "cell_type": "code",
   "execution_count": 16,
   "metadata": {},
   "outputs": [
    {
     "name": "stdout",
     "output_type": "stream",
     "text": [
      "Введите путь к файлу, либо название файла с расширением (если он в той же папке, что и скрипт): C:\\Users\\DLect\\OneDrive\\Рабочий стол\\HSE\\Research Seminar\\research_seminar_problems.xlsx\n",
      "\n",
      "=== Индекс Хирша ===\n",
      "\n",
      "Дано: \n",
      "\n",
      "    Публикация  Цитирование\n",
      "0            1           15\n",
      "1            2           18\n",
      "2            3            6\n",
      "3            4            7\n",
      "4            5            9\n",
      "5            6            8\n",
      "6            7           25\n",
      "7            8           30\n",
      "8            9           11\n",
      "9           10            8\n",
      "10          11            2\n",
      "11          12            0\n",
      "12          13            4\n",
      "13          14            4\n",
      "-----\n",
      "Решение:\n",
      "\n",
      "Sorted Table:\n",
      "    Публикация  Цитирование\n",
      "0            1           30\n",
      "1            2           25\n",
      "2            3           18\n",
      "3            4           15\n",
      "4            5           11\n",
      "5            6            9\n",
      "6            7            8\n",
      "7            8            8\n",
      "8            9            7\n",
      "9           10            6\n",
      "10          11            4\n",
      "11          12            4\n",
      "12          13            2\n",
      "13          14            0\n",
      "\n",
      "h-index = 8\n"
     ]
    }
   ],
   "source": [
    "path = input(\n",
    "    \"Введите путь к файлу, либо название файла с расширением (если он в той же папке, что и скрипт): \")\n",
    "try:\n",
    "    hirsh(path)\n",
    "except FileNotFoundError:\n",
    "    print(f\"ОШИБКА: Не найден Excel-файл: '{path}'. Вероятно, путь был указан некорректно. Проверьте, указано ли расширение файла (после названия файла в конце должно стоять .xlsx)\")\n",
    "except OSError:\n",
    "    print(f\"ОШИБКА: Путь не читаем: '{path}'. Вероятно это связано с тем, что вы ввели его через кавычки. Если это так, нужно кавычки убрать.\")"
   ]
  },
  {
   "cell_type": "markdown",
   "metadata": {},
   "source": [
    "## Непосредственная оценка"
   ]
  },
  {
   "cell_type": "code",
   "execution_count": 17,
   "metadata": {},
   "outputs": [
    {
     "name": "stdout",
     "output_type": "stream",
     "text": [
      "\n",
      "=== Непосредственная оценка ===\n",
      "\n",
      "Дано: \n",
      "\n",
      "            K1   K2   K3   K4   K5   K6 \n",
      "Эксперт 1    10    8    7    9    2    4\n",
      "Эксперт 2     5    6    8    7    4   10\n",
      "Эксперт 3     4    3    7    5    7    8\n",
      "-----\n",
      "Решение:\n",
      "K1     0.17\n",
      "K2     0.15\n",
      "K3     0.19\n",
      "K4     0.18\n",
      "K5     0.11\n",
      "K6     0.19\n",
      "dtype: float64\n"
     ]
    }
   ],
   "source": [
    "def direct_assessment_loading_data(path):\n",
    "    print(\"\\n=== Непосредственная оценка ===\\n\")\n",
    "    print(\"Дано: \\n\")\n",
    "    data2 = pd.read_excel(path,sheet_name=1, index_col=0)\n",
    "    print(data2)\n",
    "    return data2\n",
    "\n",
    "def direct_assessment(data2):\n",
    "    print(\"-----\\nРешение:\")\n",
    "    data2_sum = data2.sum().sum()\n",
    "    print(round(data2.sum()/data2_sum,2))\n",
    "    \n",
    "data2 = direct_assessment_loading_data(path)\n",
    "direct_assessment(data2)"
   ]
  },
  {
   "cell_type": "markdown",
   "metadata": {},
   "source": [
    "## Парная оценка"
   ]
  },
  {
   "cell_type": "code",
   "execution_count": 18,
   "metadata": {},
   "outputs": [],
   "source": [
    "def calculate_X(expert_matrix, n_experts):\n",
    "    \n",
    "    \"\"\"\n",
    "    Calculate Expected Value matrix from expert matrix\n",
    "    \n",
    "    \"\"\"\n",
    "    \n",
    "    m = n_experts\n",
    "    mi=1\n",
    "    mj=0\n",
    "\n",
    "    bool_matrix_mi = expert_matrix==mi\n",
    "    bool_matrix_mi = bool_matrix_mi.astype(int)\n",
    "    mi_matrix = sum(bool_matrix_mi)\n",
    "\n",
    "    bool_matrix_mj = expert_matrix==mj\n",
    "    bool_matrix_mj = bool_matrix_mj.astype(int)\n",
    "    mj_matrix = sum(bool_matrix_mj)\n",
    "\n",
    "    X = 0.5+(mi_matrix-mj_matrix)/(2*m)\n",
    "    print(f'Матрица математических ожиданий оценок (X): {X}\\n')\n",
    "    \n",
    "    return X\n",
    "\n",
    "\n",
    "def calculate_coefficients(X, epsilon): \n",
    "    \n",
    "    \"\"\"\n",
    "    Calculate coefficients from Expected Value matrix.\n",
    "    \n",
    "    \"\"\"\n",
    "    \n",
    "    K = np.transpose(np.ones(X.shape[1]))\n",
    "    while True:\n",
    "        Y = np.dot(X, K)\n",
    "        Lambda = np.dot(np.ones(X.shape[1]), Y)\n",
    "        k = (1/Lambda)*Y\n",
    "        if max(abs(k-K)) > epsilon:\n",
    "            K = k\n",
    "            print(f'Iteration: {K}')\n",
    "            continue\n",
    "        else:\n",
    "            print(f'Итоговые значения коэффициента: {np.round(k,4)}')\n",
    "            break"
   ]
  },
  {
   "cell_type": "code",
   "execution_count": 20,
   "metadata": {},
   "outputs": [
    {
     "name": "stdout",
     "output_type": "stream",
     "text": [
      "\n",
      "=== Парная оценка ===\n",
      "\n",
      "Дано: \n",
      "\n",
      "Введите доверительный интервал 0.99\n",
      "Введите кол-во экспертов 4\n",
      "\n",
      "Матрица экспертных оценок:\n",
      " [[[0.5 0.5]\n",
      "  [0.5 0.5]]\n",
      "\n",
      " [[0.5 0. ]\n",
      "  [1.  0.5]]\n",
      "\n",
      " [[0.5 0. ]\n",
      "  [1.  0.5]]\n",
      "\n",
      " [[0.5 1. ]\n",
      "  [0.  0.5]]]\n",
      "\n",
      "-----\n",
      "Решение:\n",
      "\n",
      "Матрица математических ожиданий оценок (X): [[0.5   0.375]\n",
      " [0.625 0.5  ]]\n",
      "\n",
      "Iteration: [0.4375 0.5625]\n",
      "Итоговые значения коэффициента: [0.4365 0.5635]\n"
     ]
    }
   ],
   "source": [
    "print(\"\\n=== Парная оценка ===\\n\")\n",
    "print(\"Дано: \\n\")\n",
    "\n",
    "confidence_interval = float(input(\"Введите доверительный интервал \"))\n",
    "epsilon = 1 - confidence_interval\n",
    "\n",
    "n_experts = int(input(\"Введите кол-во экспертов \"))\n",
    "matrix_dictionary = {}\n",
    "for expert in range(0, n_experts):\n",
    "    matrix_dictionary[\"expert{0}\".format(expert+1)] = pd.read_excel(\n",
    "        path, sheet_name=2, index_col=0, nrows=2, skiprows=expert*4).values\n",
    "    \n",
    "expert_matrix = np.stack(tuple(matrix_dictionary.values()))\n",
    "print(f'\\nМатрица экспертных оценок:\\n {expert_matrix}\\n')\n",
    "\n",
    "print(\"-----\\nРешение:\\n\")\n",
    "\n",
    "X = calculate_X(expert_matrix, n_experts)\n",
    "calculate_coefficients(X, epsilon)"
   ]
  },
  {
   "cell_type": "markdown",
   "metadata": {},
   "source": [
    "## Анализ иерархий"
   ]
  },
  {
   "cell_type": "code",
   "execution_count": 21,
   "metadata": {},
   "outputs": [
    {
     "name": "stdout",
     "output_type": "stream",
     "text": [
      "\n",
      "=== Анализ иерархий ===\n",
      "\n",
      "Дано: \n",
      "\n",
      "Введите кол-во критериев: 2\n",
      "Введите кол-во объектов: 3\n",
      "\n",
      "Матрица с оценкой критериев: \n",
      "[[1.  2.5]\n",
      " [0.4 1. ]]\n",
      "\n",
      "Оценка объектов по критериям:\n",
      " [[[ 1.     8.     0.5  ]\n",
      "  [ 0.125  1.     0.25 ]\n",
      "  [ 2.     4.     1.   ]]\n",
      "\n",
      " [[ 1.     0.05   0.1  ]\n",
      "  [20.     1.     4.   ]\n",
      "  [10.     0.25   1.   ]]]\n",
      "\n",
      "-----\n",
      "Решение:\n",
      "\n",
      "Локальный приоритет критерия: [0.71428571 0.28571429]\n",
      "\n",
      "Локальные приоритеты объектов относительно критериев:\n",
      "[[0.40677754 0.08071489 0.51250758]\n",
      " [0.02929508 0.73818973 0.23251519]]\n",
      "\n",
      "Глобальные приоритеты: [0.2989254  0.26856484 0.43250975]\n"
     ]
    }
   ],
   "source": [
    "def solve_hierarchy(criteria_data, object_matrix, n_criteria, n_objects):\n",
    "    common_sum = np.sum(np.power(np.prod(criteria_data,axis = n_criteria-1),1/n_criteria))\n",
    "    LK_array = np.power(np.prod(criteria_data,axis = n_criteria-1),1/n_criteria)/common_sum\n",
    "    print(f'\\nЛокальный приоритет критерия: {LK_array}')\n",
    "\n",
    "    common_sum_objects = np.sum(np.power(np.prod(object_matrix,axis = n_objects-1),1/n_objects), axis=1)\n",
    "    LK_objects_array = np.power(np.prod(object_matrix,axis = n_objects-1),1/n_objects)/common_sum_objects[:, np.newaxis]\n",
    "    print(f'\\nЛокальные приоритеты объектов относительно критериев:\\n{LK_objects_array}')\n",
    "    GK = np.dot(LK_array, LK_objects_array)\n",
    "    print(f'\\nГлобальные приоритеты: {GK}')\n",
    "\n",
    "\n",
    "print(\"\\n=== Анализ иерархий ===\\n\")\n",
    "print(\"Дано: \\n\")\n",
    "\n",
    "n_criteria = int(input(\"Введите кол-во критериев: \"))\n",
    "n_objects = int(input(\"Введите кол-во объектов: \"))\n",
    "\n",
    "matrix_dictionary = {}\n",
    "\n",
    "criteria_data = pd.read_excel(\n",
    "        path, sheet_name=3, index_col=0, nrows=2, usecols=list(range(0,n_criteria+1))).values\n",
    "print(f'\\nМатрица с оценкой критериев: \\n{criteria_data}')\n",
    "\n",
    "for criteria in range(0, n_criteria):\n",
    "    matrix_dictionary[\"criteria{0}\".format(criteria+1)] = pd.read_excel(\n",
    "        \"research_seminar_problems.xlsx\", sheet_name=3, index_col=0, nrows=n_objects, skiprows=n_criteria+2+criteria*(n_objects+2)).values\n",
    "    \n",
    "object_matrix = np.stack(tuple(matrix_dictionary.values()))\n",
    "print(f'\\nОценка объектов по критериям:\\n {object_matrix}\\n')\n",
    "\n",
    "print(\"-----\\nРешение:\")\n",
    "    \n",
    "solve_hierarchy(criteria_data, object_matrix, n_criteria, n_objects)    "
   ]
  },
  {
   "cell_type": "markdown",
   "metadata": {},
   "source": [
    "## Комплексная оценка\n",
    "\n",
    "**Внимание!** Категориальные переменные, которые представлены в виде текста необходимо закодировать прямо в Excel, т.е. перевести их в числовые показатели! Также необходимо вручную убрать предметы, которые неэффективны (например, как это было с 3-м учебником)."
   ]
  },
  {
   "cell_type": "code",
   "execution_count": 22,
   "metadata": {},
   "outputs": [],
   "source": [
    "def calculate_weighted_scores(matrix, length, V):\n",
    "    mean_criteria = np.mean(matrix, axis=1)\n",
    "    mean_criteria_matrix = np.transpose(\n",
    "        np.vstack([mean_criteria]*length))\n",
    "    abs_diff = np.sum(np.absolute(matrix - mean_criteria_matrix),\n",
    "                      axis=1)/(length*mean_criteria)\n",
    "    print(f\"\\nМатрица R: {abs_diff}\")\n",
    "    R_sum = np.sum(abs_diff)\n",
    "    print(f\"\\nСумма R: {R_sum}\")\n",
    "    Z = abs_diff/R_sum\n",
    "    print(f\"\\nМатрица Z: {Z}\")\n",
    "    W = (V+Z)/2\n",
    "    print(f\"\\nМатрица W (обобщенные веса критериев): {W}\")\n",
    "    W_matrix = np.transpose(np.vstack([W]*length))\n",
    "    answer = np.sum(W_matrix*matrix,axis=0)\n",
    "    print(f'\\nОтвет: {answer}')"
   ]
  },
  {
   "cell_type": "code",
   "execution_count": 27,
   "metadata": {},
   "outputs": [
    {
     "name": "stdout",
     "output_type": "stream",
     "text": [
      "\n",
      "=== Метод комплексной оценки ===\n",
      "\n",
      "Дано: \n",
      "\n",
      "Список критериев: ['Стоимость', 'Время реализации (год)', 'Эффективность']\n",
      "Какие критерии минимизируем? Введите полное название критериев через запятую без пробела и кавычек: Стоимость,Время реализации (год)\n",
      "Какие критерии максимизируем? Введите полное название критериев через запятую без пробела и кавычек: Эффективность\n",
      "Введите экспертные коэффициенты (веса) для каждого критерия по порядку (сверху-вниз) через запятую без пробела и кавычек: 0.2,0.4,0.4\n",
      "-----\n",
      "Решение:\n",
      "\n",
      "Матрица R: [0.42857143 0.         0.25      ]\n",
      "\n",
      "Сумма R: 0.6785714285714286\n",
      "\n",
      "Матрица Z: [0.63157895 0.         0.36842105]\n",
      "\n",
      "Матрица W (обобщенные веса критериев): [0.41578947 0.2        0.38421053]\n",
      "\n",
      "Ответ: [0.75052632 0.84631579]\n"
     ]
    }
   ],
   "source": [
    "print(\"\\n=== Метод комплексной оценки ===\\n\")\n",
    "print(\"Дано: \\n\")\n",
    "\n",
    "df = pd.read_excel(path, sheet_name=4, index_col=0)\n",
    "df1 = df.copy()\n",
    "\n",
    "print(f'Список критериев: {df1.index.to_list()}')\n",
    "\n",
    "minimize_crit = input(\n",
    "    \"Какие критерии минимизируем? Введите полное название критериев через запятую без пробела и кавычек: \").rsplit(\",\")\n",
    "\n",
    "maximize_crit = input(\n",
    "    \"Какие критерии максимизируем? Введите полное название критериев через запятую без пробела и кавычек: \").rsplit(\",\")\n",
    "\n",
    "V = input(\"Введите экспертные коэффициенты (веса) для каждого критерия по порядку (сверху-вниз) через запятую без пробела и кавычек: \").rsplit(\",\")\n",
    "V = np.array(V)\n",
    "\n",
    "try:\n",
    "    V = V.astype(float)\n",
    "\n",
    "    for crit in minimize_crit:\n",
    "        df1.loc[crit] = min(df1.loc[crit])/df1.loc[crit]\n",
    "\n",
    "    for crit in maximize_crit:\n",
    "        df1.loc[crit] = df1.loc[crit] / max(df1.loc[crit])\n",
    "\n",
    "    matrix = df1.values\n",
    "    length = len(df1.columns)\n",
    "\n",
    "    print(\"-----\\nРешение:\")\n",
    "\n",
    "    calculate_weighted_scores(matrix, length, V)\n",
    "except KeyError:\n",
    "    print(f\"ОШИБКА: Некорректно введены критерии. Проверьте, что название указанных критериев в точности совпадает с названиями в списке критериев. Также, проверьте введены ли критерии через запятую без пробела и кавычек.\")\n",
    "except ValueError:\n",
    "    print(f\"ОШИБКА: Некорректно введены экспертные коэффициенты.\")"
   ]
  }
 ],
 "metadata": {
  "kernelspec": {
   "display_name": "Python 3",
   "language": "python",
   "name": "python3"
  },
  "language_info": {
   "codemirror_mode": {
    "name": "ipython",
    "version": 3
   },
   "file_extension": ".py",
   "mimetype": "text/x-python",
   "name": "python",
   "nbconvert_exporter": "python",
   "pygments_lexer": "ipython3",
   "version": "3.8.5"
  },
  "toc": {
   "base_numbering": 1,
   "nav_menu": {},
   "number_sections": true,
   "sideBar": true,
   "skip_h1_title": false,
   "title_cell": "Table of Contents",
   "title_sidebar": "Contents",
   "toc_cell": false,
   "toc_position": {},
   "toc_section_display": true,
   "toc_window_display": false
  },
  "varInspector": {
   "cols": {
    "lenName": 16,
    "lenType": 16,
    "lenVar": 40
   },
   "kernels_config": {
    "python": {
     "delete_cmd_postfix": "",
     "delete_cmd_prefix": "del ",
     "library": "var_list.py",
     "varRefreshCmd": "print(var_dic_list())"
    },
    "r": {
     "delete_cmd_postfix": ") ",
     "delete_cmd_prefix": "rm(",
     "library": "var_list.r",
     "varRefreshCmd": "cat(var_dic_list()) "
    }
   },
   "types_to_exclude": [
    "module",
    "function",
    "builtin_function_or_method",
    "instance",
    "_Feature"
   ],
   "window_display": false
  }
 },
 "nbformat": 4,
 "nbformat_minor": 4
}
